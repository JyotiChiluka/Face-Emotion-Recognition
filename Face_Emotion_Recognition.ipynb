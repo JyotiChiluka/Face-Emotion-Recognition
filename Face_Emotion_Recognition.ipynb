{
  "nbformat": 4,
  "nbformat_minor": 0,
  "metadata": {
    "accelerator": "GPU",
    "colab": {
      "name": " Face Emotion Recognition",
      "provenance": [],
      "include_colab_link": true
    },
    "kernelspec": {
      "display_name": "Python 3",
      "name": "python3"
    },
    "language_info": {
      "name": "python"
    }
  },
  "cells": [
    {
      "cell_type": "markdown",
      "metadata": {
        "id": "view-in-github",
        "colab_type": "text"
      },
      "source": [
        "<a href=\"https://colab.research.google.com/github/JyotiChiluka/Face-Emotion-Recognition/blob/main/Face_Emotion_Recognition.ipynb\" target=\"_parent\"><img src=\"https://colab.research.google.com/assets/colab-badge.svg\" alt=\"Open In Colab\"/></a>"
      ]
    },
    {
      "cell_type": "markdown",
      "source": [
        "#**Face Emotion Recognition**"
      ],
      "metadata": {
        "id": "x7M5jDDMCZBM"
      }
    },
    {
      "cell_type": "markdown",
      "metadata": {
        "id": "Isyt-d--EXGt"
      },
      "source": [
        "#**Mounting drive,importing libraries and reading dataset**"
      ]
    },
    {
      "cell_type": "code",
      "metadata": {
        "colab": {
          "base_uri": "https://localhost:8080/"
        },
        "id": "ERaM5NMsm0tM",
        "outputId": "7de416a1-90bf-4b3e-9644-c9ba7d2aebba"
      },
      "source": [
        "#Mounting to drive\n",
        "from google.colab import drive\n",
        "drive.mount('/content/drive')"
      ],
      "execution_count": null,
      "outputs": [
        {
          "output_type": "stream",
          "name": "stdout",
          "text": [
            "Mounted at /content/drive\n"
          ]
        }
      ]
    },
    {
      "cell_type": "code",
      "metadata": {
        "id": "v1eEzVOIm4qH"
      },
      "source": [
        "#Importing libraries\n",
        "import numpy as np \n",
        "import pandas as pd \n",
        "import cv2"
      ],
      "execution_count": null,
      "outputs": []
    },
    {
      "cell_type": "code",
      "metadata": {
        "id": "GUHlesTwnhDF"
      },
      "source": [
        "df = pd.read_csv('/content/drive/MyDrive/Capstone Projects/fer2013/fer2013.csv')"
      ],
      "execution_count": null,
      "outputs": []
    },
    {
      "cell_type": "code",
      "metadata": {
        "colab": {
          "base_uri": "https://localhost:8080/",
          "height": 206
        },
        "id": "OmIRhazJnrJj",
        "outputId": "8f86dd31-2c06-4dc2-ea81-1fb34e3af94c"
      },
      "source": [
        "#It gives first five rows of dataset \n",
        "df.head()"
      ],
      "execution_count": null,
      "outputs": [
        {
          "output_type": "execute_result",
          "data": {
            "text/html": [
              "\n",
              "  <div id=\"df-fd86b16b-99b1-4269-81e9-8cbc55a053cf\">\n",
              "    <div class=\"colab-df-container\">\n",
              "      <div>\n",
              "<style scoped>\n",
              "    .dataframe tbody tr th:only-of-type {\n",
              "        vertical-align: middle;\n",
              "    }\n",
              "\n",
              "    .dataframe tbody tr th {\n",
              "        vertical-align: top;\n",
              "    }\n",
              "\n",
              "    .dataframe thead th {\n",
              "        text-align: right;\n",
              "    }\n",
              "</style>\n",
              "<table border=\"1\" class=\"dataframe\">\n",
              "  <thead>\n",
              "    <tr style=\"text-align: right;\">\n",
              "      <th></th>\n",
              "      <th>emotion</th>\n",
              "      <th>pixels</th>\n",
              "      <th>Usage</th>\n",
              "    </tr>\n",
              "  </thead>\n",
              "  <tbody>\n",
              "    <tr>\n",
              "      <th>0</th>\n",
              "      <td>0</td>\n",
              "      <td>70 80 82 72 58 58 60 63 54 58 60 48 89 115 121...</td>\n",
              "      <td>Training</td>\n",
              "    </tr>\n",
              "    <tr>\n",
              "      <th>1</th>\n",
              "      <td>0</td>\n",
              "      <td>151 150 147 155 148 133 111 140 170 174 182 15...</td>\n",
              "      <td>Training</td>\n",
              "    </tr>\n",
              "    <tr>\n",
              "      <th>2</th>\n",
              "      <td>2</td>\n",
              "      <td>231 212 156 164 174 138 161 173 182 200 106 38...</td>\n",
              "      <td>Training</td>\n",
              "    </tr>\n",
              "    <tr>\n",
              "      <th>3</th>\n",
              "      <td>4</td>\n",
              "      <td>24 32 36 30 32 23 19 20 30 41 21 22 32 34 21 1...</td>\n",
              "      <td>Training</td>\n",
              "    </tr>\n",
              "    <tr>\n",
              "      <th>4</th>\n",
              "      <td>6</td>\n",
              "      <td>4 0 0 0 0 0 0 0 0 0 0 0 3 15 23 28 48 50 58 84...</td>\n",
              "      <td>Training</td>\n",
              "    </tr>\n",
              "  </tbody>\n",
              "</table>\n",
              "</div>\n",
              "      <button class=\"colab-df-convert\" onclick=\"convertToInteractive('df-fd86b16b-99b1-4269-81e9-8cbc55a053cf')\"\n",
              "              title=\"Convert this dataframe to an interactive table.\"\n",
              "              style=\"display:none;\">\n",
              "        \n",
              "  <svg xmlns=\"http://www.w3.org/2000/svg\" height=\"24px\"viewBox=\"0 0 24 24\"\n",
              "       width=\"24px\">\n",
              "    <path d=\"M0 0h24v24H0V0z\" fill=\"none\"/>\n",
              "    <path d=\"M18.56 5.44l.94 2.06.94-2.06 2.06-.94-2.06-.94-.94-2.06-.94 2.06-2.06.94zm-11 1L8.5 8.5l.94-2.06 2.06-.94-2.06-.94L8.5 2.5l-.94 2.06-2.06.94zm10 10l.94 2.06.94-2.06 2.06-.94-2.06-.94-.94-2.06-.94 2.06-2.06.94z\"/><path d=\"M17.41 7.96l-1.37-1.37c-.4-.4-.92-.59-1.43-.59-.52 0-1.04.2-1.43.59L10.3 9.45l-7.72 7.72c-.78.78-.78 2.05 0 2.83L4 21.41c.39.39.9.59 1.41.59.51 0 1.02-.2 1.41-.59l7.78-7.78 2.81-2.81c.8-.78.8-2.07 0-2.86zM5.41 20L4 18.59l7.72-7.72 1.47 1.35L5.41 20z\"/>\n",
              "  </svg>\n",
              "      </button>\n",
              "      \n",
              "  <style>\n",
              "    .colab-df-container {\n",
              "      display:flex;\n",
              "      flex-wrap:wrap;\n",
              "      gap: 12px;\n",
              "    }\n",
              "\n",
              "    .colab-df-convert {\n",
              "      background-color: #E8F0FE;\n",
              "      border: none;\n",
              "      border-radius: 50%;\n",
              "      cursor: pointer;\n",
              "      display: none;\n",
              "      fill: #1967D2;\n",
              "      height: 32px;\n",
              "      padding: 0 0 0 0;\n",
              "      width: 32px;\n",
              "    }\n",
              "\n",
              "    .colab-df-convert:hover {\n",
              "      background-color: #E2EBFA;\n",
              "      box-shadow: 0px 1px 2px rgba(60, 64, 67, 0.3), 0px 1px 3px 1px rgba(60, 64, 67, 0.15);\n",
              "      fill: #174EA6;\n",
              "    }\n",
              "\n",
              "    [theme=dark] .colab-df-convert {\n",
              "      background-color: #3B4455;\n",
              "      fill: #D2E3FC;\n",
              "    }\n",
              "\n",
              "    [theme=dark] .colab-df-convert:hover {\n",
              "      background-color: #434B5C;\n",
              "      box-shadow: 0px 1px 3px 1px rgba(0, 0, 0, 0.15);\n",
              "      filter: drop-shadow(0px 1px 2px rgba(0, 0, 0, 0.3));\n",
              "      fill: #FFFFFF;\n",
              "    }\n",
              "  </style>\n",
              "\n",
              "      <script>\n",
              "        const buttonEl =\n",
              "          document.querySelector('#df-fd86b16b-99b1-4269-81e9-8cbc55a053cf button.colab-df-convert');\n",
              "        buttonEl.style.display =\n",
              "          google.colab.kernel.accessAllowed ? 'block' : 'none';\n",
              "\n",
              "        async function convertToInteractive(key) {\n",
              "          const element = document.querySelector('#df-fd86b16b-99b1-4269-81e9-8cbc55a053cf');\n",
              "          const dataTable =\n",
              "            await google.colab.kernel.invokeFunction('convertToInteractive',\n",
              "                                                     [key], {});\n",
              "          if (!dataTable) return;\n",
              "\n",
              "          const docLinkHtml = 'Like what you see? Visit the ' +\n",
              "            '<a target=\"_blank\" href=https://colab.research.google.com/notebooks/data_table.ipynb>data table notebook</a>'\n",
              "            + ' to learn more about interactive tables.';\n",
              "          element.innerHTML = '';\n",
              "          dataTable['output_type'] = 'display_data';\n",
              "          await google.colab.output.renderOutput(dataTable, element);\n",
              "          const docLink = document.createElement('div');\n",
              "          docLink.innerHTML = docLinkHtml;\n",
              "          element.appendChild(docLink);\n",
              "        }\n",
              "      </script>\n",
              "    </div>\n",
              "  </div>\n",
              "  "
            ],
            "text/plain": [
              "   emotion                                             pixels     Usage\n",
              "0        0  70 80 82 72 58 58 60 63 54 58 60 48 89 115 121...  Training\n",
              "1        0  151 150 147 155 148 133 111 140 170 174 182 15...  Training\n",
              "2        2  231 212 156 164 174 138 161 173 182 200 106 38...  Training\n",
              "3        4  24 32 36 30 32 23 19 20 30 41 21 22 32 34 21 1...  Training\n",
              "4        6  4 0 0 0 0 0 0 0 0 0 0 0 3 15 23 28 48 50 58 84...  Training"
            ]
          },
          "metadata": {},
          "execution_count": 6
        }
      ]
    },
    {
      "cell_type": "code",
      "metadata": {
        "colab": {
          "base_uri": "https://localhost:8080/"
        },
        "id": "KyUNZCVNnuAh",
        "outputId": "10255645-a971-4657-eb05-224aa8b5da80"
      },
      "source": [
        "#Length of a pixels # 48 * 48\n",
        "len(df.iloc[0]['pixels'].split())"
      ],
      "execution_count": null,
      "outputs": [
        {
          "output_type": "execute_result",
          "data": {
            "text/plain": [
              "2304"
            ]
          },
          "metadata": {},
          "execution_count": 7
        }
      ]
    },
    {
      "cell_type": "code",
      "metadata": {
        "id": "X3RfItp1nyAs"
      },
      "source": [
        "#Labelling of emotion\n",
        "label_map = ['Anger', 'Neutral', 'Fear', 'Happy', 'Sad', 'Surprise']"
      ],
      "execution_count": null,
      "outputs": []
    },
    {
      "cell_type": "code",
      "metadata": {
        "id": "sdgpOA3Cn2LV"
      },
      "source": [
        "import matplotlib.pyplot as plt"
      ],
      "execution_count": null,
      "outputs": []
    },
    {
      "cell_type": "code",
      "metadata": {
        "id": "PagMyq9jn4lp"
      },
      "source": [
        "img = df.iloc[0]['pixels'].split()"
      ],
      "execution_count": null,
      "outputs": []
    },
    {
      "cell_type": "code",
      "metadata": {
        "id": "R8DUcQUMn6n4"
      },
      "source": [
        "img = [int(i) for i in img]"
      ],
      "execution_count": null,
      "outputs": []
    },
    {
      "cell_type": "code",
      "metadata": {
        "colab": {
          "base_uri": "https://localhost:8080/"
        },
        "id": "85AL4u_Pn9RW",
        "outputId": "b2777011-ccf3-48b2-bb51-cf9e341acfeb"
      },
      "source": [
        "type(img[0])"
      ],
      "execution_count": null,
      "outputs": [
        {
          "output_type": "execute_result",
          "data": {
            "text/plain": [
              "int"
            ]
          },
          "metadata": {},
          "execution_count": 12
        }
      ]
    },
    {
      "cell_type": "code",
      "metadata": {
        "colab": {
          "base_uri": "https://localhost:8080/"
        },
        "id": "Q9GxxIWQoRyJ",
        "outputId": "d8e36c4f-fce0-4f53-b253-b1d663ace3b6"
      },
      "source": [
        "len(img)"
      ],
      "execution_count": null,
      "outputs": [
        {
          "output_type": "execute_result",
          "data": {
            "text/plain": [
              "2304"
            ]
          },
          "metadata": {},
          "execution_count": 13
        }
      ]
    },
    {
      "cell_type": "code",
      "metadata": {
        "id": "Khd_aa7PoXtY",
        "colab": {
          "base_uri": "https://localhost:8080/"
        },
        "outputId": "e63cd20e-1bd8-401b-fcad-d1aff19b8c58"
      },
      "source": [
        "img = np.array(img)\n",
        "img"
      ],
      "execution_count": null,
      "outputs": [
        {
          "output_type": "execute_result",
          "data": {
            "text/plain": [
              "array([ 70,  80,  82, ..., 106, 109,  82])"
            ]
          },
          "metadata": {},
          "execution_count": 14
        }
      ]
    },
    {
      "cell_type": "code",
      "metadata": {
        "id": "F6kZ23t9ocFO"
      },
      "source": [
        "img = img.reshape(48,48)"
      ],
      "execution_count": null,
      "outputs": []
    },
    {
      "cell_type": "code",
      "metadata": {
        "colab": {
          "base_uri": "https://localhost:8080/"
        },
        "id": "5yfptzshoduD",
        "outputId": "754f94db-1959-4807-ce6a-6cc71e510fa9"
      },
      "source": [
        "img.shape"
      ],
      "execution_count": null,
      "outputs": [
        {
          "output_type": "execute_result",
          "data": {
            "text/plain": [
              "(48, 48)"
            ]
          },
          "metadata": {},
          "execution_count": 16
        }
      ]
    },
    {
      "cell_type": "code",
      "metadata": {
        "colab": {
          "base_uri": "https://localhost:8080/",
          "height": 298
        },
        "id": "AI1HcKeGofUL",
        "outputId": "857ace8a-62ed-4c78-e4bb-c557d893cd87"
      },
      "source": [
        "#Plotting a image \n",
        "plt.imshow(img, cmap='gray')\n",
        "plt.xlabel(df.iloc[0]['emotion'])"
      ],
      "execution_count": null,
      "outputs": [
        {
          "output_type": "execute_result",
          "data": {
            "text/plain": [
              "Text(0.5, 0, '0')"
            ]
          },
          "metadata": {},
          "execution_count": 17
        },
        {
          "output_type": "display_data",
          "data": {
            "image/png": "[encoded data removed]",
            "text/plain": [
              "<Figure size 432x288 with 1 Axes>"
            ]
          },
          "metadata": {
            "needs_background": "light"
          }
        }
      ]
    },
    {
      "cell_type": "code",
      "metadata": {
        "id": "hTPL8R_xohJE"
      },
      "source": [
        "X = []\n",
        "y = []"
      ],
      "execution_count": null,
      "outputs": []
    },
    {
      "cell_type": "markdown",
      "metadata": {
        "id": "yzsLljMGEoLY"
      },
      "source": [
        "#**Setting labels for different emotions**"
      ]
    },
    {
      "cell_type": "code",
      "metadata": {
        "id": "xMowKx6zoj-B"
      },
      "source": [
        "#Setting different labels to different emotion\n",
        "def getData(path):\n",
        "    anger = 0\n",
        "    fear = 0\n",
        "    sad = 0\n",
        "    happy = 0\n",
        "    surprise = 0\n",
        "    neutral = 0\n",
        "    df = pd.read_csv(path)\n",
        "    \n",
        "    X = []\n",
        "    y = []    \n",
        "    \n",
        "    for i in range(len(df)):\n",
        "        if df.iloc[i]['emotion'] != 1:\n",
        "            if df.iloc[i]['emotion'] == 0:\n",
        "                if anger <= 4000:            \n",
        "                    y.append(df.iloc[i]['emotion'])\n",
        "                    im = df.iloc[i]['pixels']\n",
        "                    im = [int(x) for x in im.split()]\n",
        "                    X.append(im)\n",
        "                    anger += 1\n",
        "                else:\n",
        "                    pass\n",
        "                \n",
        "            if df.iloc[i]['emotion'] == 2:\n",
        "                if fear <= 4000:            \n",
        "                    y.append(df.iloc[i]['emotion'])\n",
        "                    im = df.iloc[i]['pixels']\n",
        "                    im = [int(x) for x in im.split()]\n",
        "                    X.append(im)\n",
        "                    fear += 1\n",
        "                else:\n",
        "                    pass\n",
        "                \n",
        "            if df.iloc[i]['emotion'] == 3:\n",
        "                if happy <= 4000:            \n",
        "                    y.append(df.iloc[i]['emotion'])\n",
        "                    im = df.iloc[i]['pixels']\n",
        "                    im = [int(x) for x in im.split()]\n",
        "                    X.append(im)\n",
        "                    happy += 1\n",
        "                else:\n",
        "                    pass\n",
        "                \n",
        "            if df.iloc[i]['emotion'] == 4:\n",
        "                if sad <= 4000:            \n",
        "                    y.append(df.iloc[i]['emotion'])\n",
        "                    im = df.iloc[i]['pixels']\n",
        "                    im = [int(x) for x in im.split()]\n",
        "                    X.append(im)\n",
        "                    sad += 1\n",
        "                else:\n",
        "                    pass\n",
        "                \n",
        "            if df.iloc[i]['emotion'] == 5:\n",
        "                if surprise <= 4000:            \n",
        "                    y.append(df.iloc[i]['emotion'])\n",
        "                    im = df.iloc[i]['pixels']\n",
        "                    im = [int(x) for x in im.split()]\n",
        "                    X.append(im)\n",
        "                    surprise += 1\n",
        "                else:\n",
        "                    pass\n",
        "                \n",
        "            if df.iloc[i]['emotion'] == 6:\n",
        "                if neutral <= 4000:            \n",
        "                    y.append(df.iloc[i]['emotion'])\n",
        "                    im = df.iloc[i]['pixels']\n",
        "                    im = [int(x) for x in im.split()]\n",
        "                    X.append(im)\n",
        "                    neutral += 1\n",
        "                else:\n",
        "                    pass\n",
        "\n",
        "            \n",
        "            \n",
        "    return X, y  \n",
        "    "
      ],
      "execution_count": null,
      "outputs": []
    },
    {
      "cell_type": "code",
      "metadata": {
        "id": "v8iOxXTAoyge"
      },
      "source": [
        "#Generating new dataset\n",
        "X, y = getData('/content/drive/MyDrive/Capstone Projects/fer2013/fer2013.csv')"
      ],
      "execution_count": null,
      "outputs": []
    },
    {
      "cell_type": "code",
      "metadata": {
        "colab": {
          "base_uri": "https://localhost:8080/"
        },
        "id": "Oy5JCE82pALH",
        "outputId": "777243b0-ea1a-4e08-fb0b-5bfbd075637f"
      },
      "source": [
        "np.unique(y, return_counts=True)"
      ],
      "execution_count": null,
      "outputs": [
        {
          "output_type": "execute_result",
          "data": {
            "text/plain": [
              "(array([0, 2, 3, 4, 5, 6]), array([4001, 4001, 4001, 4001, 4001, 4001]))"
            ]
          },
          "metadata": {},
          "execution_count": 84
        }
      ]
    },
    {
      "cell_type": "code",
      "metadata": {
        "id": "mXUb7YBRpkfX"
      },
      "source": [
        "X = np.array(X)/255.0\n",
        "y = np.array(y)"
      ],
      "execution_count": null,
      "outputs": []
    },
    {
      "cell_type": "code",
      "metadata": {
        "colab": {
          "base_uri": "https://localhost:8080/"
        },
        "id": "pKX8K2ykpp_I",
        "outputId": "9b3e642d-f1e7-4e4b-8ad8-af6069f30355"
      },
      "source": [
        "#Shape of X and y\n",
        "X.shape, y.shape"
      ],
      "execution_count": null,
      "outputs": [
        {
          "output_type": "execute_result",
          "data": {
            "text/plain": [
              "((24006, 2304), (24006,))"
            ]
          },
          "metadata": {},
          "execution_count": 86
        }
      ]
    },
    {
      "cell_type": "code",
      "metadata": {
        "id": "jMAf8d0jpx20"
      },
      "source": [
        "y_o = []\n",
        "for i in y:\n",
        "    if i != 6:\n",
        "        y_o.append(i)\n",
        "        \n",
        "    else:\n",
        "        y_o.append(1)"
      ],
      "execution_count": null,
      "outputs": []
    },
    {
      "cell_type": "code",
      "metadata": {
        "colab": {
          "base_uri": "https://localhost:8080/"
        },
        "id": "6DJC9Qw0p10s",
        "outputId": "57439873-740d-4cf7-b702-cee23f6f1477"
      },
      "source": [
        "np.unique(y_o, return_counts=True)"
      ],
      "execution_count": null,
      "outputs": [
        {
          "output_type": "execute_result",
          "data": {
            "text/plain": [
              "(array([0, 1, 2, 3, 4, 5]), array([4001, 4001, 4001, 4001, 4001, 4001]))"
            ]
          },
          "metadata": {},
          "execution_count": 88
        }
      ]
    },
    {
      "cell_type": "code",
      "metadata": {
        "colab": {
          "base_uri": "https://localhost:8080/",
          "height": 1000
        },
        "id": "h7lIN543pa8_",
        "outputId": "6d5ac010-0c1a-44e9-83ea-44e1eda77836"
      },
      "source": [
        "#Plotting five different images with their emotions name\n",
        "for i in range(5):\n",
        "    r = np.random.randint((1), 24000, 1)[0]\n",
        "    plt.figure()\n",
        "    plt.imshow(X[r].reshape(48,48), cmap='gray')\n",
        "    plt.xlabel(label_map[y_o[r]])"
      ],
      "execution_count": null,
      "outputs": [
        {
          "output_type": "display_data",
          "data": {
            "image/png": "[encoded data removed]",
            "text/plain": [
              "<Figure size 432x288 with 1 Axes>"
            ]
          },
          "metadata": {}
        },
        {
          "output_type": "display_data",
          "data": {
            "image/png": "[encoded data removed]",
            "text/plain": [
              "<Figure size 432x288 with 1 Axes>"
            ]
          },
          "metadata": {}
        },
        {
          "output_type": "display_data",
          "data": {
            "image/png": "[encoded data removed]",
            "text/plain": [
              "<Figure size 432x288 with 1 Axes>"
            ]
          },
          "metadata": {}
        },
        {
          "output_type": "display_data",
          "data": {
            "image/png": "[encoded data removed]",
            "text/plain": [
              "<Figure size 432x288 with 1 Axes>"
            ]
          },
          "metadata": {}
        },
        {
          "output_type": "display_data",
          "data": {
            "image/png": "[encoded data removed]",
            "text/plain": [
              "<Figure size 432x288 with 1 Axes>"
            ]
          },
          "metadata": {}
        }
      ]
    },
    {
      "cell_type": "code",
      "metadata": {
        "id": "SCJeQqYkpejO"
      },
      "source": [
        "X = X.reshape(len(X), 48, 48, 1)"
      ],
      "execution_count": null,
      "outputs": []
    },
    {
      "cell_type": "code",
      "metadata": {
        "id": "6BDDDqu-p54H"
      },
      "source": [
        "#No_of_images, height, width, coloar_map"
      ],
      "execution_count": null,
      "outputs": []
    },
    {
      "cell_type": "code",
      "metadata": {
        "colab": {
          "base_uri": "https://localhost:8080/"
        },
        "id": "v30j_zHbqD8X",
        "outputId": "c5d9da44-3859-48fd-b054-2354c4687d5a"
      },
      "source": [
        "X.shape"
      ],
      "execution_count": null,
      "outputs": [
        {
          "output_type": "execute_result",
          "data": {
            "text/plain": [
              "(24006, 48, 48, 1)"
            ]
          },
          "metadata": {},
          "execution_count": 92
        }
      ]
    },
    {
      "cell_type": "code",
      "metadata": {
        "id": "7H9eg8XFqGDr"
      },
      "source": [
        "from tensorflow.keras.utils import to_categorical\n",
        "y_new = to_categorical(y_o, num_classes=6)"
      ],
      "execution_count": null,
      "outputs": []
    },
    {
      "cell_type": "code",
      "metadata": {
        "colab": {
          "base_uri": "https://localhost:8080/"
        },
        "id": "lskbzU1qqIne",
        "outputId": "f35bbf46-f6b9-4deb-a468-b29c6566763b"
      },
      "source": [
        "len(y_o), y_new.shape"
      ],
      "execution_count": null,
      "outputs": [
        {
          "output_type": "execute_result",
          "data": {
            "text/plain": [
              "(24006, (24006, 6))"
            ]
          },
          "metadata": {},
          "execution_count": 94
        }
      ]
    },
    {
      "cell_type": "code",
      "metadata": {
        "colab": {
          "base_uri": "https://localhost:8080/"
        },
        "id": "Vrb-q-sPqimh",
        "outputId": "b07a2458-8367-4914-9986-c74cc62402da"
      },
      "source": [
        "y_o[150], y_new[150]"
      ],
      "execution_count": null,
      "outputs": [
        {
          "output_type": "execute_result",
          "data": {
            "text/plain": [
              "(0, array([1., 0., 0., 0., 0., 0.], dtype=float32))"
            ]
          },
          "metadata": {},
          "execution_count": 95
        }
      ]
    },
    {
      "cell_type": "markdown",
      "metadata": {
        "id": "dvsrscKtD5oM"
      },
      "source": [
        "#**Making Training and Validation Data**"
      ]
    },
    {
      "cell_type": "code",
      "metadata": {
        "id": "GLzqzQnEqkrw"
      },
      "source": [
        "#Importing libraries for creating model\n",
        "from keras.models import Sequential\n",
        "from keras.layers import Dense , Activation , Dropout ,Flatten\n",
        "from keras.layers.convolutional import Conv2D\n",
        "from keras.layers.convolutional import MaxPooling2D\n",
        "from keras.metrics import categorical_accuracy\n",
        "from keras.models import model_from_json\n",
        "from keras.callbacks import ModelCheckpoint\n",
        "from keras.optimizers import *\n",
        "from tensorflow.keras.layers import BatchNormalization"
      ],
      "execution_count": null,
      "outputs": []
    },
    {
      "cell_type": "code",
      "metadata": {
        "id": "TTu8vgEgrAjc"
      },
      "source": [
        "#Adding convolutional layers with activation functions (relu) and max pooling\n",
        "model = Sequential()\n",
        "\n",
        "\n",
        "input_shape = (48,48,1)\n",
        "\n",
        "\n",
        "model.add(Conv2D(64, (5, 5), input_shape=input_shape,activation='relu', padding='same'))\n",
        "model.add(Conv2D(64, (5, 5), padding='same'))\n",
        "model.add(BatchNormalization())\n",
        "model.add(Activation('relu'))\n",
        "model.add(MaxPooling2D(pool_size=(2, 2)))\n",
        "\n",
        "\n",
        "model.add(Conv2D(128, (5, 5),activation='relu',padding='same'))\n",
        "model.add(Conv2D(128, (5, 5),padding='same'))\n",
        "model.add(BatchNormalization())\n",
        "model.add(Activation('relu'))\n",
        "model.add(MaxPooling2D(pool_size=(2, 2)))\n",
        "\n",
        "model.add(Conv2D(256, (3, 3),activation='relu',padding='same'))\n",
        "model.add(Conv2D(256, (3, 3),activation='relu',padding='same'))\n",
        "model.add(BatchNormalization())\n",
        "model.add(MaxPooling2D(pool_size=(2, 2)))\n",
        "\n",
        "## (15, 15) --->  30\n",
        "model.add(Flatten())\n",
        "model.add(Dense(6, activation='softmax'))\n",
        "\n",
        "model.compile(loss='categorical_crossentropy', metrics=['accuracy'],optimizer='adam')"
      ],
      "execution_count": null,
      "outputs": []
    },
    {
      "cell_type": "code",
      "metadata": {
        "colab": {
          "base_uri": "https://localhost:8080/"
        },
        "id": "GZR0i2TY0BBd",
        "outputId": "08f76581-778c-429a-df59-981e1250d94a"
      },
      "source": [
        "#Printing model summary\n",
        "model.summary()"
      ],
      "execution_count": null,
      "outputs": [
        {
          "output_type": "stream",
          "name": "stdout",
          "text": [
            "Model: \"sequential_1\"\n",
            "_________________________________________________________________\n",
            " Layer (type)                Output Shape              Param #   \n",
            "=================================================================\n",
            " conv2d_6 (Conv2D)           (None, 48, 48, 64)        1664      \n",
            "                                                                 \n",
            " conv2d_7 (Conv2D)           (None, 48, 48, 64)        102464    \n",
            "                                                                 \n",
            " batch_normalization_3 (Batc  (None, 48, 48, 64)       256       \n",
            " hNormalization)                                                 \n",
            "                                                                 \n",
            " activation_2 (Activation)   (None, 48, 48, 64)        0         \n",
            "                                                                 \n",
            " max_pooling2d_3 (MaxPooling  (None, 24, 24, 64)       0         \n",
            " 2D)                                                             \n",
            "                                                                 \n",
            " conv2d_8 (Conv2D)           (None, 24, 24, 128)       204928    \n",
            "                                                                 \n",
            " conv2d_9 (Conv2D)           (None, 24, 24, 128)       409728    \n",
            "                                                                 \n",
            " batch_normalization_4 (Batc  (None, 24, 24, 128)      512       \n",
            " hNormalization)                                                 \n",
            "                                                                 \n",
            " activation_3 (Activation)   (None, 24, 24, 128)       0         \n",
            "                                                                 \n",
            " max_pooling2d_4 (MaxPooling  (None, 12, 12, 128)      0         \n",
            " 2D)                                                             \n",
            "                                                                 \n",
            " conv2d_10 (Conv2D)          (None, 12, 12, 256)       295168    \n",
            "                                                                 \n",
            " conv2d_11 (Conv2D)          (None, 12, 12, 256)       590080    \n",
            "                                                                 \n",
            " batch_normalization_5 (Batc  (None, 12, 12, 256)      1024      \n",
            " hNormalization)                                                 \n",
            "                                                                 \n",
            " max_pooling2d_5 (MaxPooling  (None, 6, 6, 256)        0         \n",
            " 2D)                                                             \n",
            "                                                                 \n",
            " flatten_1 (Flatten)         (None, 9216)              0         \n",
            "                                                                 \n",
            " dense_1 (Dense)             (None, 6)                 55302     \n",
            "                                                                 \n",
            "=================================================================\n",
            "Total params: 1,661,126\n",
            "Trainable params: 1,660,230\n",
            "Non-trainable params: 896\n",
            "_________________________________________________________________\n"
          ]
        }
      ]
    },
    {
      "cell_type": "markdown",
      "metadata": {
        "id": "xmIjqRJ_Dvfa"
      },
      "source": [
        "#**Fitting the Model with Training and Validation Data**"
      ]
    },
    {
      "cell_type": "code",
      "metadata": {
        "colab": {
          "base_uri": "https://localhost:8080/"
        },
        "id": "3YVZAB8BqnJx",
        "outputId": "be6fba0f-b3bf-46e8-ea8c-e3e7fa0d8bfb"
      },
      "source": [
        "#Running epochs \n",
        "history = model.fit(X, y_new, epochs=25, batch_size=64, shuffle=True, validation_split=0.2)"
      ],
      "execution_count": null,
      "outputs": [
        {
          "output_type": "stream",
          "name": "stdout",
          "text": [
            "Epoch 1/25\n",
            "301/301 [==============================] - 26s 83ms/step - loss: 2.3480 - accuracy: 0.2280 - val_loss: 1.8805 - val_accuracy: 0.3055\n",
            "Epoch 2/25\n",
            "301/301 [==============================] - 25s 81ms/step - loss: 1.9267 - accuracy: 0.2911 - val_loss: 2.2350 - val_accuracy: 0.2362\n",
            "Epoch 3/25\n",
            "301/301 [==============================] - 24s 81ms/step - loss: 1.5824 - accuracy: 0.3780 - val_loss: 2.6467 - val_accuracy: 0.1751\n",
            "Epoch 4/25\n",
            "301/301 [==============================] - 25s 84ms/step - loss: 1.4558 - accuracy: 0.4299 - val_loss: 1.8309 - val_accuracy: 0.2824\n",
            "Epoch 5/25\n",
            "301/301 [==============================] - 24s 81ms/step - loss: 1.3523 - accuracy: 0.4698 - val_loss: 1.9728 - val_accuracy: 0.3176\n",
            "Epoch 6/25\n",
            "301/301 [==============================] - 25s 84ms/step - loss: 1.2850 - accuracy: 0.5022 - val_loss: 1.5502 - val_accuracy: 0.4456\n",
            "Epoch 7/25\n",
            "301/301 [==============================] - 24s 81ms/step - loss: 1.2072 - accuracy: 0.5327 - val_loss: 1.5135 - val_accuracy: 0.4109\n",
            "Epoch 8/25\n",
            "301/301 [==============================] - 24s 81ms/step - loss: 1.1457 - accuracy: 0.5581 - val_loss: 1.5155 - val_accuracy: 0.4252\n",
            "Epoch 9/25\n",
            "301/301 [==============================] - 24s 81ms/step - loss: 1.0851 - accuracy: 0.5858 - val_loss: 1.6765 - val_accuracy: 0.4294\n",
            "Epoch 10/25\n",
            "301/301 [==============================] - 25s 84ms/step - loss: 1.0210 - accuracy: 0.6139 - val_loss: 1.1671 - val_accuracy: 0.5535\n",
            "Epoch 11/25\n",
            "301/301 [==============================] - 24s 81ms/step - loss: 0.9500 - accuracy: 0.6440 - val_loss: 1.5352 - val_accuracy: 0.4431\n",
            "Epoch 12/25\n",
            "301/301 [==============================] - 25s 84ms/step - loss: 0.8634 - accuracy: 0.6721 - val_loss: 1.8860 - val_accuracy: 0.4440\n",
            "Epoch 13/25\n",
            "301/301 [==============================] - 24s 81ms/step - loss: 0.7926 - accuracy: 0.7046 - val_loss: 1.1444 - val_accuracy: 0.5902\n",
            "Epoch 14/25\n",
            "301/301 [==============================] - 25s 84ms/step - loss: 0.6627 - accuracy: 0.7539 - val_loss: 1.7985 - val_accuracy: 0.4544\n",
            "Epoch 15/25\n",
            "301/301 [==============================] - 24s 81ms/step - loss: 0.5564 - accuracy: 0.7949 - val_loss: 1.5146 - val_accuracy: 0.5714\n",
            "Epoch 16/25\n",
            "301/301 [==============================] - 24s 81ms/step - loss: 0.4045 - accuracy: 0.8541 - val_loss: 1.7958 - val_accuracy: 0.5196\n",
            "Epoch 17/25\n",
            "301/301 [==============================] - 24s 80ms/step - loss: 0.3243 - accuracy: 0.8865 - val_loss: 2.2030 - val_accuracy: 0.4838\n",
            "Epoch 18/25\n",
            "301/301 [==============================] - 24s 81ms/step - loss: 0.2368 - accuracy: 0.9179 - val_loss: 2.2835 - val_accuracy: 0.4917\n",
            "Epoch 19/25\n",
            "301/301 [==============================] - 25s 84ms/step - loss: 0.2035 - accuracy: 0.9323 - val_loss: 2.1413 - val_accuracy: 0.5548\n",
            "Epoch 20/25\n",
            "301/301 [==============================] - 24s 81ms/step - loss: 0.1425 - accuracy: 0.9566 - val_loss: 2.2239 - val_accuracy: 0.5814\n",
            "Epoch 21/25\n",
            "301/301 [==============================] - 24s 81ms/step - loss: 0.1597 - accuracy: 0.9506 - val_loss: 2.5524 - val_accuracy: 0.5429\n",
            "Epoch 22/25\n",
            "301/301 [==============================] - 24s 81ms/step - loss: 0.1192 - accuracy: 0.9634 - val_loss: 2.5564 - val_accuracy: 0.5450\n",
            "Epoch 23/25\n",
            "301/301 [==============================] - 24s 81ms/step - loss: 0.2172 - accuracy: 0.9310 - val_loss: 2.2970 - val_accuracy: 0.5716\n",
            "Epoch 24/25\n",
            "301/301 [==============================] - 25s 84ms/step - loss: 0.0866 - accuracy: 0.9802 - val_loss: 2.6284 - val_accuracy: 0.5614\n",
            "Epoch 25/25\n",
            "301/301 [==============================] - 24s 81ms/step - loss: 0.0936 - accuracy: 0.9772 - val_loss: 2.4661 - val_accuracy: 0.5677\n"
          ]
        }
      ]
    },
    {
      "cell_type": "code",
      "metadata": {
        "id": "HcOF4c6f0G2W",
        "colab": {
          "base_uri": "https://localhost:8080/",
          "height": 663
        },
        "outputId": "7a186300-1d42-46a1-b9b7-e04249e4cfa0"
      },
      "source": [
        "#Plotting losses and accuracy of train and validation\n",
        "plt.style.use('dark_background')\n",
        "\n",
        "plt.figure(figsize=(20,10))\n",
        "plt.subplot(1, 2, 1)\n",
        "plt.suptitle('Optimizer : Adam', fontsize=10)\n",
        "plt.ylabel('Loss', fontsize=16)\n",
        "plt.plot(history.history['loss'], label='Training Loss')\n",
        "plt.plot(history.history['val_loss'], label='Validation Loss')\n",
        "plt.legend(loc='upper right')\n",
        "\n",
        "plt.subplot(1, 2, 2)\n",
        "plt.ylabel('Accuracy', fontsize=16)\n",
        "plt.plot(history.history['accuracy'], label='Training Accuracy')\n",
        "plt.plot(history.history['val_accuracy'], label='Validation Accuracy')\n",
        "plt.legend(loc='lower right')\n",
        "plt.show()"
      ],
      "execution_count": null,
      "outputs": [
        {
          "output_type": "display_data",
          "data": {
            "image/png": "[encoded data removed]",
            "text/plain": [
              "<Figure size 1440x720 with 2 Axes>"
            ]
          },
          "metadata": {}
        }
      ]
    },
    {
      "cell_type": "code",
      "metadata": {
        "id": "65w0Nqciq7LX"
      },
      "source": [
        "#Saving the model as a .h5 file\n",
        "model.save('model_final.h5')"
      ],
      "execution_count": null,
      "outputs": []
    },
    {
      "cell_type": "code",
      "metadata": {
        "colab": {
          "base_uri": "https://localhost:8080/"
        },
        "id": "ktB77qvxH3Ji",
        "outputId": "7081a43a-8e74-4e9e-d669-68cebed5dd6a"
      },
      "source": [
        "model.save('model_final.json')"
      ],
      "execution_count": null,
      "outputs": [
        {
          "output_type": "stream",
          "name": "stdout",
          "text": [
            "INFO:tensorflow:Assets written to: model_final.json/assets\n"
          ]
        }
      ]
    },
    {
      "cell_type": "code",
      "source": [
        "from keras.models import load_model\n",
        "model = load_model('model_final.h5')"
      ],
      "metadata": {
        "id": "T8HScsq8fXgv"
      },
      "execution_count": null,
      "outputs": []
    },
    {
      "cell_type": "code",
      "metadata": {
        "id": "ThhySzXoLjFa"
      },
      "source": [
        "model_json = model.to_json()\n",
        "with open(\"model1.json\",\"w\") as json_file:\n",
        "     json_file.write(model_json)\n"
      ],
      "execution_count": null,
      "outputs": []
    },
    {
      "cell_type": "code",
      "source": [
        "from google.colab import files\n",
        "files.download('model_final.json')"
      ],
      "metadata": {
        "id": "QNKxd6blmLQG"
      },
      "execution_count": null,
      "outputs": []
    },
    {
      "cell_type": "markdown",
      "metadata": {
        "id": "4DhgG6UrDZ5F"
      },
      "source": [
        "#**Testing by importing new images** "
      ]
    },
    {
      "cell_type": "code",
      "metadata": {
        "id": "mUp8DUalw1HA"
      },
      "source": [
        "#Testing with different images\n",
        "import cv2\n",
        "test_img = cv2.imread('/content/drive/MyDrive/files/surprise.jfif', 0)"
      ],
      "execution_count": null,
      "outputs": []
    },
    {
      "cell_type": "code",
      "metadata": {
        "colab": {
          "base_uri": "https://localhost:8080/"
        },
        "id": "wl6ptlcCw-k6",
        "outputId": "07e7546a-68f3-421c-f096-7e89d6b070b8"
      },
      "source": [
        "test_img.shape"
      ],
      "execution_count": null,
      "outputs": [
        {
          "output_type": "execute_result",
          "data": {
            "text/plain": [
              "(168, 300)"
            ]
          },
          "metadata": {},
          "execution_count": 158
        }
      ]
    },
    {
      "cell_type": "code",
      "metadata": {
        "colab": {
          "base_uri": "https://localhost:8080/"
        },
        "id": "P_B0BUZzxDdo",
        "outputId": "f530ac9a-8e43-4706-f6b9-e817f3aaf174"
      },
      "source": [
        "test_img = cv2.resize(test_img, (48,48))\n",
        "test_img.shape"
      ],
      "execution_count": null,
      "outputs": [
        {
          "output_type": "execute_result",
          "data": {
            "text/plain": [
              "(48, 48)"
            ]
          },
          "metadata": {},
          "execution_count": 159
        }
      ]
    },
    {
      "cell_type": "code",
      "metadata": {
        "id": "sOYUlFtOxFki"
      },
      "source": [
        "test_img = test_img.reshape(1,48,48,1)"
      ],
      "execution_count": null,
      "outputs": []
    },
    {
      "cell_type": "code",
      "metadata": {
        "colab": {
          "base_uri": "https://localhost:8080/"
        },
        "id": "r5aFqyMSxHyT",
        "outputId": "e94fce24-81cf-490d-b1cf-bc96ff2256a0"
      },
      "source": [
        "#Surprise face predicting\n",
        "model.predict(test_img)"
      ],
      "execution_count": null,
      "outputs": [
        {
          "output_type": "execute_result",
          "data": {
            "text/plain": [
              "array([[0., 0., 0., 0., 1., 0.]], dtype=float32)"
            ]
          },
          "metadata": {},
          "execution_count": 161
        }
      ]
    },
    {
      "cell_type": "markdown",
      "metadata": {
        "id": "gyXjeugvxNao"
      },
      "source": [
        "label_map = ['Anger', 'Fear', 'Sad', 'Happy', 'Surprise', 'Neutral']"
      ]
    },
    {
      "cell_type": "markdown",
      "source": [
        "Actual image is suprise and prediction is also surprise"
      ],
      "metadata": {
        "id": "nfDbvqT0b5j3"
      }
    },
    {
      "cell_type": "code",
      "metadata": {
        "id": "x8J5kxn9xJxg"
      },
      "source": [
        "#Pedicting emotion with image\n",
        "test_img2 = cv2.imread(\"/content/drive/MyDrive/files/neutral.jfif\",0)"
      ],
      "execution_count": null,
      "outputs": []
    },
    {
      "cell_type": "code",
      "metadata": {
        "colab": {
          "base_uri": "https://localhost:8080/"
        },
        "id": "UnvHojEgxacp",
        "outputId": "d82d4f00-6968-4f73-9b8e-ab96c309f0eb"
      },
      "source": [
        "test_img2.shape"
      ],
      "execution_count": null,
      "outputs": [
        {
          "output_type": "execute_result",
          "data": {
            "text/plain": [
              "(183, 275)"
            ]
          },
          "metadata": {},
          "execution_count": 114
        }
      ]
    },
    {
      "cell_type": "code",
      "metadata": {
        "colab": {
          "base_uri": "https://localhost:8080/"
        },
        "id": "E-gi15oVxcf1",
        "outputId": "5adcddce-5047-4dea-c8b0-20a48eefa8d3"
      },
      "source": [
        "test_img2 = cv2.resize(test_img2, (48,48))\n",
        "test_img2.shape"
      ],
      "execution_count": null,
      "outputs": [
        {
          "output_type": "execute_result",
          "data": {
            "text/plain": [
              "(48, 48)"
            ]
          },
          "metadata": {},
          "execution_count": 115
        }
      ]
    },
    {
      "cell_type": "code",
      "metadata": {
        "id": "Uzgk_5syxhtT"
      },
      "source": [
        "test_img2 = test_img2.reshape(1,48,48,1)"
      ],
      "execution_count": null,
      "outputs": []
    },
    {
      "cell_type": "code",
      "metadata": {
        "colab": {
          "base_uri": "https://localhost:8080/"
        },
        "id": "iKHyT_Kqxkxl",
        "outputId": "683d1b35-4c5d-429a-99c0-dfa6cecfdb7d"
      },
      "source": [
        "#Neutral face predicting\n",
        "model.predict(test_img2)"
      ],
      "execution_count": null,
      "outputs": [
        {
          "output_type": "execute_result",
          "data": {
            "text/plain": [
              "array([[0., 0., 0., 0., 0., 1.]], dtype=float32)"
            ]
          },
          "metadata": {},
          "execution_count": 63
        }
      ]
    },
    {
      "cell_type": "markdown",
      "metadata": {
        "id": "bYBn8T0ucN3N"
      },
      "source": [
        "label_map = ['Anger', 'Fear', 'Sad', 'Happy', 'Surprise', 'Neutral']"
      ]
    },
    {
      "cell_type": "markdown",
      "source": [
        "Actual image is neutral and prediction is also neutral"
      ],
      "metadata": {
        "id": "NLj7Be0Pbu5x"
      }
    },
    {
      "cell_type": "markdown",
      "metadata": {
        "id": "OED-05OzIXL3"
      },
      "source": [
        "#**Conclusion**"
      ]
    },
    {
      "cell_type": "markdown",
      "metadata": {
        "id": "GCPATBTLIb90"
      },
      "source": [
        "1. Trained the model using Convolutional Neural Network (CNN) we just added layers with a channels and padding requirement in a sequential model just by calling add method.\n",
        "2. Haarcasacade is the package used from OpenCV to detect objects in other images. Initially the video frame is stored in the video object.\n",
        "3. The epochs as 25 and the optimum score is at 10th epoch.\n",
        "4. Trained the model with several images and then used the test images to see how the results match up.\n",
        "5. The accuracy that achieved for the validation set is 56%  for further increase the accuracy of the model, we can either expand the training dataset or we have to increase the batch size for the model. Through these parameters, we can increase the model accuracy.\n",
        "6. Model is identifying students emotions using minimum reference images and Successfully  deployed web app of real-time webcam video feed on Heroku and streamlit platform.\n",
        "\n",
        "\n"
      ]
    }
  ]
}